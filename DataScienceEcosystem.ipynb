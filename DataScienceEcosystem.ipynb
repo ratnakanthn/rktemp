{
 "cells": [
  {
   "cell_type": "markdown",
   "id": "2dec0698-7291-4406-8859-598b5f7b55c5",
   "metadata": {
    "tags": []
   },
   "source": [
    "# Data Science Tools and Ecosystem"
   ]
  },
  {
   "cell_type": "markdown",
   "id": "5993a72a-9c2e-416b-9f0f-4e9c7e1fbdcb",
   "metadata": {},
   "source": [
    "In this notebook, Data Science Tools and Ecosystem are summarized"
   ]
  },
  {
   "cell_type": "markdown",
   "id": "336f019b-4560-4d86-8c5e-9787f22ae5f0",
   "metadata": {},
   "source": [
    "**Objectives :**\n",
    "* Python\n",
    "* R\n",
    "* Julia\n",
    "* C++\n",
    "* Scala\n",
    "* Java"
   ]
  },
  {
   "cell_type": "markdown",
   "id": "29c0f48b-4fef-4769-914c-9ea442924dd8",
   "metadata": {},
   "source": [
    "Some of the popular languages that Data Scientists use are:\n",
    "1. Python\n",
    "2. R\n",
    "3. Julia\n",
    "4. C++\n",
    "5. Scala\n",
    "6. Java"
   ]
  },
  {
   "cell_type": "markdown",
   "id": "4d7f73cb-33d0-4268-903a-af0278372639",
   "metadata": {},
   "source": [
    "Some of the commonly used libraries used by Data Scientists include:\n",
    "1. TensorFlow\n",
    "2. NumPy\n",
    "3. PyTorch\n",
    "4. Pandas\n",
    "5. SciKit-Learn"
   ]
  },
  {
   "cell_type": "markdown",
   "id": "c113b6d8-1e87-4953-9aaf-cac74067924f",
   "metadata": {},
   "source": [
    "| Data Science Tools |\n",
    "| ------------------ |\n",
    "| Jupiter Lab |\n",
    "| R Studio |\n",
    "| Anaconda |\n"
   ]
  },
  {
   "cell_type": "markdown",
   "id": "ffd62cdb-2884-4f90-8609-c3acdeba53ec",
   "metadata": {},
   "source": [
    "### Below are a few examples of evaluating arithmetic expressions in Python"
   ]
  },
  {
   "cell_type": "code",
   "execution_count": 1,
   "id": "fa817f4f-2713-461a-91d8-8a91facdd803",
   "metadata": {
    "tags": []
   },
   "outputs": [
    {
     "data": {
      "text/plain": [
       "17"
      ]
     },
     "execution_count": 1,
     "metadata": {},
     "output_type": "execute_result"
    }
   ],
   "source": [
    "# This is a simple arithmetic expression to mutiply then add integers\n",
    "(3*4)+5"
   ]
  },
  {
   "cell_type": "code",
   "execution_count": 4,
   "id": "cc9a6dd2-406f-4a88-bac5-329b655b71dc",
   "metadata": {
    "tags": []
   },
   "outputs": [
    {
     "data": {
      "text/plain": [
       "3.3333333333333335"
      ]
     },
     "execution_count": 4,
     "metadata": {},
     "output_type": "execute_result"
    }
   ],
   "source": [
    "# This will convert 200 minutes to hours by dividing by 60\n",
    "200/60"
   ]
  },
  {
   "cell_type": "markdown",
   "id": "d0209d94-384c-4a7b-80a4-acedea4f52ce",
   "metadata": {},
   "source": [
    "## Author\n",
    "Ratna Kanth N"
   ]
  },
  {
   "cell_type": "code",
   "execution_count": null,
   "id": "3468f51a-1e69-4ded-8947-b3f8ff832ac6",
   "metadata": {},
   "outputs": [],
   "source": []
  }
 ],
 "metadata": {
  "kernelspec": {
   "display_name": "Python",
   "language": "python",
   "name": "conda-env-python-py"
  },
  "language_info": {
   "codemirror_mode": {
    "name": "ipython",
    "version": 3
   },
   "file_extension": ".py",
   "mimetype": "text/x-python",
   "name": "python",
   "nbconvert_exporter": "python",
   "pygments_lexer": "ipython3",
   "version": "3.7.12"
  }
 },
 "nbformat": 4,
 "nbformat_minor": 5
}
